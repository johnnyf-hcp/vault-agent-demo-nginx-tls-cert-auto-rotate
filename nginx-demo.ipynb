{
 "cells": [
  {
   "cell_type": "markdown",
   "metadata": {},
   "source": [
    "# Setup NGINX with HTTPS"
   ]
  },
  {
   "cell_type": "markdown",
   "metadata": {},
   "source": [
    "To run this notebook in VS Code, chose the Jupyter kernel and then Bash\n",
    "\n",
    "This assumes also your Vault server is already running on http://127.0.0.1:8200\n",
    "and you have set your VAULT_ADDR and VAULT_TOKEN variables\n",
    "\n",
    "This also assumes you have the Vault CLI installed."
   ]
  },
  {
   "cell_type": "code",
   "execution_count": null,
   "metadata": {
    "vscode": {
     "languageId": "shellscript"
    }
   },
   "outputs": [],
   "source": [
    "# Optional.  The following are some sample commands for running Vault Enterprise in docker.\n",
    "export VAULT_PORT=8200\n",
    "export VAULT_ADDR=\"http://127.0.0.1:${VAULT_PORT}\"\n",
    "export VAULT_TOKEN=\"root\"\n",
    "# Change the path to your license file\n",
    "export VAULT_LICENSE=$(cat $HOME/vault-enterprise/vault_local/data/vault.hclic)\n",
    "docker run -d --rm --name vault-enterprise --cap-add=IPC_LOCK \\\n",
    "-v $LOGS_PATH:/vault_logs \\\n",
    "-e \"VAULT_DEV_ROOT_TOKEN_ID=${VAULT_TOKEN}\" \\\n",
    "-e \"VAULT_DEV_LISTEN_ADDRESS=:${VAULT_PORT}\" \\\n",
    "-e \"VAULT_LICENSE=${VAULT_LICENSE}\" \\\n",
    "-p ${VAULT_PORT}:${VAULT_PORT} \\\n",
    "-p 5696:5696 hashicorp/vault-enterprise:latest"
   ]
  },
  {
   "cell_type": "code",
   "execution_count": null,
   "metadata": {
    "vscode": {
     "languageId": "shellscript"
    }
   },
   "outputs": [],
   "source": [
    "# Install nginx for testing on MacOS.  Assumes you have brew installed.\n",
    "# If already installed, skip this step.\n",
    "brew install nginx"
   ]
  },
  {
   "cell_type": "code",
   "execution_count": null,
   "metadata": {
    "vscode": {
     "languageId": "shellscript"
    }
   },
   "outputs": [],
   "source": [
    "# Copy the nginx.conf that is for SSL\n",
    "yes | cp nginx.conf /opt/homebrew/etc/nginx/nginx.conf"
   ]
  },
  {
   "cell_type": "markdown",
   "metadata": {},
   "source": [
    "## Setup Vault as a CA and Issue TLS certificate to NGINX"
   ]
  },
  {
   "cell_type": "code",
   "execution_count": null,
   "metadata": {
    "vscode": {
     "languageId": "shellscript"
    }
   },
   "outputs": [],
   "source": [
    "# Enable PKI engine at the default mount path\n",
    "vault secrets enable pki\n",
    "# Enable approle Auth\n",
    "vault auth enable approle"
   ]
  },
  {
   "cell_type": "code",
   "execution_count": null,
   "metadata": {
    "vscode": {
     "languageId": "shellscript"
    }
   },
   "outputs": [],
   "source": [
    "# configure max lease ttl on certificates - 8760h or 365 days\n",
    "vault secrets tune -max-lease-ttl=8760h pki"
   ]
  },
  {
   "cell_type": "code",
   "execution_count": null,
   "metadata": {
    "vscode": {
     "languageId": "shellscript"
    }
   },
   "outputs": [],
   "source": [
    "# Create the CA, the private key is kept inside Vault.\n",
    "# Alternatively, generate an intermediate CA and sign with your root CA.\n",
    "# CA cert is valid for 8760h or 365 days\n",
    "vault write pki/root/generate/internal \\\n",
    "    common_name=my-org.com \\\n",
    "    ttl=8760h"
   ]
  },
  {
   "cell_type": "code",
   "execution_count": null,
   "metadata": {
    "vscode": {
     "languageId": "shellscript"
    }
   },
   "outputs": [],
   "source": [
    "# configure Vault with the URL's for CRL\n",
    "vault write pki/config/urls \\\n",
    "    issuing_certificates=\"http://127.0.0.1:8200/v1/pki/ca\" \\\n",
    "    crl_distribution_points=\"http://127.0.0.1:8200/v1/pki/crl\""
   ]
  },
  {
   "cell_type": "markdown",
   "metadata": {},
   "source": [
    "## Import the CA cert to your local machine"
   ]
  },
  {
   "cell_type": "code",
   "execution_count": null,
   "metadata": {
    "vscode": {
     "languageId": "shellscript"
    }
   },
   "outputs": [],
   "source": [
    "# Store the CA certificate to import into your keychain.  Using keychain app to import in.\n",
    "curl http://127.0.0.1:8200/v1/pki/ca_chain > ca.crt\n",
    "open ca.crt\n"
   ]
  },
  {
   "cell_type": "code",
   "execution_count": null,
   "metadata": {
    "vscode": {
     "languageId": "shellscript"
    }
   },
   "outputs": [],
   "source": [
    "# Note: To avoid cert warnings, open keychain app and configure CA cert for my-org.com to Always Trust in the properties\n",
    "open -a \"keychain Access.app\""
   ]
  },
  {
   "cell_type": "markdown",
   "metadata": {},
   "source": [
    "<img src=\"images/ca-trust-keychain-settings.png\">"
   ]
  },
  {
   "cell_type": "code",
   "execution_count": null,
   "metadata": {
    "vscode": {
     "languageId": "shellscript"
    }
   },
   "outputs": [],
   "source": [
    "# configure web certificate for localhost.  Set TTL to 30s for demo.\n",
    "vault write pki/roles/website1role \\\n",
    "    allowed_domains=localhost \\\n",
    "    allow_subdomains=true \\\n",
    "    max_ttl=30s"
   ]
  },
  {
   "cell_type": "code",
   "execution_count": null,
   "metadata": {
    "vscode": {
     "languageId": "shellscript"
    }
   },
   "outputs": [],
   "source": [
    "# Generate the web cert and place it in the nginx folder\n",
    "vault write -format=json pki/issue/website1role \\\n",
    "    common_name=localhost > cert.json\n",
    "jq -r .data.certificate < cert.json > /opt/homebrew/etc/nginx/cert.pem\n",
    "jq -r .data.private_key < cert.json > /opt/homebrew/etc/nginx/cert.key\n",
    "\n",
    "\n"
   ]
  },
  {
   "cell_type": "code",
   "execution_count": null,
   "metadata": {
    "vscode": {
     "languageId": "shellscript"
    }
   },
   "outputs": [],
   "source": [
    "# By default, Homebrew installs NGINX in /usr/local/Cellar/nginx/<version> \n",
    "# and creates symbolic links at /usr/local/opt/. The nginx binary has a \n",
    "# symbolic link in /usr/local/bin and this folder is already included in the $PATH.\n",
    "# configuration file will be in /opt/homebrew/etc/nginx/nginx.conf\n",
    "# sudo systemctl start nginx # linux\n",
    "nginx -s stop # MacOS\n",
    "nginx # MacOS"
   ]
  },
  {
   "cell_type": "markdown",
   "metadata": {},
   "source": [
    "## Verifying the Certificate Validity"
   ]
  },
  {
   "cell_type": "code",
   "execution_count": null,
   "metadata": {
    "vscode": {
     "languageId": "shellscript"
    }
   },
   "outputs": [],
   "source": [
    "# open HTTPS://localhost # open using default browser\n",
    "# Test nginx using Chrome in incognito mode otherwise the cert expiry doesn't seem to show due to some caching.\n",
    "# Show that the website is loaded using SSL\n",
    "# Close the browser and wait for 30 secs and open the page again to show that the cert date is now expired.\n",
    "open -na \"Google Chrome\" --args -incognito HTTPS://localhost\n",
    "\n",
    "# Leave the browser window open and continue with the Vault Agent setup."
   ]
  },
  {
   "cell_type": "markdown",
   "metadata": {},
   "source": [
    "# Setup Vault Agent to Refresh the NGINX PKI cert"
   ]
  },
  {
   "cell_type": "code",
   "execution_count": null,
   "metadata": {
    "vscode": {
     "languageId": "shellscript"
    }
   },
   "outputs": [],
   "source": [
    "# Create the policy for the vault agent to generate certificates and to authenticate with tokens\n",
    "vault policy write pki-agent-policy - << EOF\n",
    "path \"pki/issue/website1role\" {\n",
    "  capabilities = [\"create\", \"update\"]\n",
    "}\n",
    "path \"auth/token/*\" {\n",
    "  capabilities = [\"create\", \"update\"]\n",
    "}\n",
    "EOF"
   ]
  },
  {
   "cell_type": "code",
   "execution_count": null,
   "metadata": {
    "vscode": {
     "languageId": "shellscript"
    }
   },
   "outputs": [],
   "source": [
    "# Create the approle for the agent with the above policy\n",
    "# Secret ID TTL is currently set to 10m validity.\n",
    "vault write auth/approle/role/pki-agent-app-role \\\n",
    "    secret_id_ttl=10m \\\n",
    "    token_num_uses=0 \\\n",
    "    token_ttl=20m \\\n",
    "    token_max_ttl=30m \\\n",
    "    secret_id_num_uses=40 \\\n",
    "    token_policies=pki-agent-policy,default\n",
    "# Show settings on app role\n",
    "vault read auth/approle/role/pki-agent-app-role"
   ]
  },
  {
   "cell_type": "code",
   "execution_count": null,
   "metadata": {
    "vscode": {
     "languageId": "shellscript"
    }
   },
   "outputs": [],
   "source": [
    "# Store roleid value for Vault Agent\n",
    "vault read -field=role_id auth/approle/role/pki-agent-app-role/role-id > roleid"
   ]
  },
  {
   "cell_type": "code",
   "execution_count": null,
   "metadata": {
    "vscode": {
     "languageId": "shellscript"
    }
   },
   "outputs": [],
   "source": [
    "# Store secretid value for Vault Agent\n",
    "vault write -f -field=secret_id auth/approle/role/pki-agent-app-role/secret-id > secretid"
   ]
  },
  {
   "cell_type": "code",
   "execution_count": null,
   "metadata": {
    "vscode": {
     "languageId": "shellscript"
    }
   },
   "outputs": [],
   "source": [
    "# Run the vault agent.  Show in the previous launch browser that the cert expiry date changes every 30 secs.  \n",
    "# After demo, stop this cell and cleanup.\n",
    "vault agent -config agent.hcl"
   ]
  },
  {
   "cell_type": "code",
   "execution_count": null,
   "metadata": {
    "vscode": {
     "languageId": "shellscript"
    }
   },
   "outputs": [],
   "source": [
    "# After you stop the Vault Agent, you can show after the 30 sec expiry that the TLS cert is no longer refreshed \n",
    "# and the website hits an error.\n",
    "open -na \"Google Chrome\" --args -incognito HTTPS://localhost"
   ]
  },
  {
   "cell_type": "markdown",
   "metadata": {},
   "source": [
    "# Cleanup"
   ]
  },
  {
   "cell_type": "code",
   "execution_count": null,
   "metadata": {
    "vscode": {
     "languageId": "shellscript"
    }
   },
   "outputs": [],
   "source": [
    "# Cleanup\n",
    "\n",
    "# stop nginx\n",
    "nginx -s stop # MacOS\n",
    "#sudo systemctl stop nginx  # linux\n",
    "\n",
    "rm cert.json\n",
    "rm agent-token\n",
    "rm roleid\n",
    "rm secretid\n",
    "rm ca.crt\n",
    "vault secrets disable pki\n",
    "vault auth disable approle"
   ]
  },
  {
   "cell_type": "code",
   "execution_count": null,
   "metadata": {
    "vscode": {
     "languageId": "shellscript"
    }
   },
   "outputs": [],
   "source": [
    "# Manual Cleanup step\n",
    "open -a \"keychain Access.app\"\n",
    "# Remove the my-org.com certificate"
   ]
  },
  {
   "cell_type": "code",
   "execution_count": null,
   "metadata": {
    "vscode": {
     "languageId": "shellscript"
    }
   },
   "outputs": [],
   "source": [
    "# Optional.  Other commands.\n",
    "# reload nginx cert\n",
    "#sudo systemctl reload nginx  # linux\n",
    "#nginx -s reload # MacOS"
   ]
  }
 ],
 "metadata": {
  "kernelspec": {
   "display_name": "Bash",
   "language": "bash",
   "name": "bash"
  },
  "language_info": {
   "codemirror_mode": "shell",
   "file_extension": ".sh",
   "mimetype": "text/x-sh",
   "name": "bash"
  },
  "orig_nbformat": 4
 },
 "nbformat": 4,
 "nbformat_minor": 2
}
